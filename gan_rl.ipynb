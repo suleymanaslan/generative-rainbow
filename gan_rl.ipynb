{
 "cells": [
  {
   "cell_type": "code",
   "execution_count": null,
   "metadata": {
    "scrolled": true,
    "pycharm": {
     "name": "#%%\n"
    }
   },
   "outputs": [],
   "source": [
    "%matplotlib inline\n",
    "from env import StarPilotEnv\n",
    "from ppo.buffer import Buffer\n",
    "from ppo.actor_critic import ActorCritic\n",
    "from ppo.agent import Agent\n",
    "from ppo.utils import PPOTrainer\n",
    "import torch\n",
    "import numpy as np\n",
    "\n",
    "torch.manual_seed(828)\n",
    "np.random.seed(828)\n",
    "\n",
    "env = StarPilotEnv(history_length=16, num_levels=10,\n",
    "                   start_level=0, distribution_mode=\"easy\",\n",
    "                   use_backgrounds=False, view_mode=\"rgb\")\n",
    "train_env = StarPilotEnv(history_length=env.window, num_levels=env.num_levels,\n",
    "                         start_level=env.start_level, distribution_mode=env.distribution_mode,\n",
    "                         use_backgrounds=env.use_backgrounds, view_mode=env.view_mode)\n",
    "test_env = StarPilotEnv(history_length=env.window, num_levels=20,\n",
    "                        start_level=int(100e3), distribution_mode=env.distribution_mode,\n",
    "                        use_backgrounds=env.use_backgrounds, view_mode=env.view_mode)\n",
    "buffer = Buffer(size=1024, obs_shape=env.obs_shape, gamma=0.99, lam=0.97)\n",
    "actor_critic = ActorCritic(env, action_size=env.action_size)\n",
    "agent = Agent(buffer, actor_critic, policy_lr=3e-4, value_lr=1e-3,\n",
    "              policy_train_iter=64, value_train_iter=64)\n",
    "trainer = PPOTrainer(max_steps=int(300e3), plot_steps=int(25e3))\n",
    "\n",
    "trainer.train(env, agent, buffer, actor_critic, file=\"gan_rl.ipynb\")"
   ]
  }
 ],
 "metadata": {
  "kernelspec": {
   "display_name": "Python 3",
   "language": "python",
   "name": "python3"
  },
  "language_info": {
   "codemirror_mode": {
    "name": "ipython",
    "version": 3
   },
   "file_extension": ".py",
   "mimetype": "text/x-python",
   "name": "python",
   "nbconvert_exporter": "python",
   "pygments_lexer": "ipython3",
   "version": "3.7.7"
  }
 },
 "nbformat": 4,
 "nbformat_minor": 4
}