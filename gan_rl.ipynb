{
 "cells": [
  {
   "cell_type": "code",
   "execution_count": null,
   "metadata": {
    "scrolled": true
   },
   "outputs": [],
   "source": [
    "%matplotlib inline\n",
    "from env import StarPilotEnv\n",
    "from agent import Agent\n",
    "from replay_memory import ReplayMemory\n",
    "from utils import Trainer\n",
    "import torch\n",
    "import numpy as np\n",
    "\n",
    "torch.manual_seed(828)\n",
    "np.random.seed(828)\n",
    "\n",
    "env = StarPilotEnv(action_size=15, history_length=16,\n",
    "                   num_levels=10, start_level=0, distribution_mode=\"easy\",\n",
    "                   use_backgrounds=False, view_mode=\"rgb\")\n",
    "train_env = StarPilotEnv(action_size=15, history_length=env.window,\n",
    "                         num_levels=env.num_levels, start_level=env.start_level,\n",
    "                         distribution_mode=env.distribution_mode,\n",
    "                         use_backgrounds=env.use_backgrounds, view_mode=env.view_mode)\n",
    "test_env = StarPilotEnv(action_size=15, history_length=env.window,\n",
    "                        num_levels=20, start_level=int(100e3),\n",
    "                        distribution_mode=env.distribution_mode,\n",
    "                        use_backgrounds=env.use_backgrounds, view_mode=env.view_mode)\n",
    "agent = Agent(env, atoms=51, v_min=-20.0, v_max=20.0, batch_size=8, multi_step=3,\n",
    "              discount=0.99, norm_clip=10.0, lr=5e-4, adam_eps=1.5e-4, hidden_size=256,\n",
    "              noisy_std=0.1)\n",
    "mem = ReplayMemory(int(50e3), env, agent.discount, agent.n,\n",
    "                   priority_weight=0.4, priority_exponent=0.5)\n",
    "trainer = Trainer(max_steps=int(900e3), replay_frequency=6, reward_clip=5.0,\n",
    "                  learning_start_step=int(5e3), target_update = int(2e3),\n",
    "                  gan_steps=int(150e3), eval_steps=int(50e3), plot_steps=int(25e3),\n",
    "                  training_mode=\"dqn_only\")\n",
    "\n",
    "trainer.train(env, train_env, test_env, agent, mem, file=\"gan_rl.ipynb\")"
   ]
  },
  {
   "cell_type": "code",
   "execution_count": null,
   "metadata": {
    "pycharm": {
     "name": "#%%\n"
    }
   },
   "outputs": [],
   "source": [
    "trainer.save(agent)"
   ]
  }
 ],
 "metadata": {
  "kernelspec": {
   "display_name": "Python 3",
   "language": "python",
   "name": "python3"
  },
  "language_info": {
   "codemirror_mode": {
    "name": "ipython",
    "version": 3
   },
   "file_extension": ".py",
   "mimetype": "text/x-python",
   "name": "python",
   "nbconvert_exporter": "python",
   "pygments_lexer": "ipython3",
   "version": "3.7.7"
  }
 },
 "nbformat": 4,
 "nbformat_minor": 4
}